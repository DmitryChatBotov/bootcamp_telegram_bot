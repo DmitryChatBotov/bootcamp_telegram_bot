{
 "cells": [
  {
   "cell_type": "code",
   "execution_count": 1,
   "id": "2f81fc93-883e-4977-9d8f-9ec170804354",
   "metadata": {},
   "outputs": [],
   "source": [
    "import sys\n",
    "import os\n",
    "from dotenv import load_dotenv\n",
    "\n",
    "sys.path.append(os.path.join(os.curdir, os.pardir, \"bot\"))\n",
    "load_dotenv()  # Подгружаю ключ из .env, который лежит в Notebooks\n",
    "\n",
    "from models.langchain import llm\n",
    "from models.langchain.conversation_chain import CustomConversationChain"
   ]
  },
  {
   "cell_type": "code",
   "execution_count": 2,
   "id": "d3c766a0-052e-4143-9774-9288ffd266b6",
   "metadata": {},
   "outputs": [],
   "source": [
    "conversation_chain = CustomConversationChain(llm, \"BeautySalon.db\")  # закинул BeautySalon в notebooks"
   ]
  },
  {
   "cell_type": "markdown",
   "id": "a130a83e-7ba2-4aad-91b0-43096943d22f",
   "metadata": {},
   "source": [
    "# Booking ner"
   ]
  },
  {
   "cell_type": "code",
   "execution_count": 3,
   "id": "a0b4174e-bbb3-4806-b2e7-de2bd3795804",
   "metadata": {},
   "outputs": [
    {
     "data": {
      "text/plain": [
       "('Booking',\n",
       " {'action': 'Create',\n",
       "  'master_name': None,\n",
       "  'beauty_service': 'Manicure',\n",
       "  'booking_date': '2023-09-26',\n",
       "  'booking_time': '10:00'})"
      ]
     },
     "execution_count": 3,
     "metadata": {},
     "output_type": "execute_result"
    }
   ],
   "source": [
    "conversation_chain(\"Hello, it's Natalie. Can I have my nails done 26th of september at 10am\")"
   ]
  },
  {
   "cell_type": "code",
   "execution_count": 4,
   "id": "854aaccf-c9d8-416f-8b9c-8e48ef4e18e5",
   "metadata": {},
   "outputs": [
    {
     "data": {
      "text/plain": [
       "('Booking',\n",
       " {'action': 'Cancel',\n",
       "  'master_name': None,\n",
       "  'beauty_service': None,\n",
       "  'booking_date': '2023-09-09',\n",
       "  'booking_time': None})"
      ]
     },
     "execution_count": 4,
     "metadata": {},
     "output_type": "execute_result"
    }
   ],
   "source": [
    "conversation_chain(\"Hello, it's Natalie. Can I cancel my booking that is tomorrow?\")"
   ]
  },
  {
   "cell_type": "markdown",
   "id": "2d97fc5b-0aea-4f76-a8c6-2156dff9c02f",
   "metadata": {},
   "source": [
    "# SQL"
   ]
  },
  {
   "cell_type": "code",
   "execution_count": 5,
   "id": "15d7b943-de87-415b-ad8a-d9993abdabbb",
   "metadata": {},
   "outputs": [
    {
     "name": "stdout",
     "output_type": "stream",
     "text": [
      "\n",
      "\n",
      "\u001b[1m> Entering new SQLDatabaseChain chain...\u001b[0m\n",
      "What services do you have?\n",
      "SQLQuery:\u001b[32;1m\u001b[1;3mSELECT name FROM Services\u001b[0m\n",
      "SQLResult: \u001b[33;1m\u001b[1;3m[('Classic Facial',), ('Deep Tissue Massage',), ('Manicure',), ('Pedicure',), ('Haircut & Styling',), ('Full Hair Coloring',), ('Eyebrow Shaping',)]\u001b[0m\n",
      "Answer:\u001b[32;1m\u001b[1;3mWe have the following services:\n",
      "- Classic Facial\n",
      "- Deep Tissue Massage\n",
      "- Manicure\n",
      "- Pedicure\n",
      "- Haircut & Styling\n",
      "- Full Hair Coloring\n",
      "- Eyebrow Shaping\u001b[0m\n",
      "\u001b[1m> Finished chain.\u001b[0m\n"
     ]
    },
    {
     "data": {
      "text/plain": [
       "('SQL',\n",
       " 'We have the following services:\\n- Classic Facial\\n- Deep Tissue Massage\\n- Manicure\\n- Pedicure\\n- Haircut & Styling\\n- Full Hair Coloring\\n- Eyebrow Shaping')"
      ]
     },
     "execution_count": 5,
     "metadata": {},
     "output_type": "execute_result"
    }
   ],
   "source": [
    "conversation_chain(\"What services do you have?\")"
   ]
  },
  {
   "cell_type": "code",
   "execution_count": 6,
   "id": "45a96489-6db9-4637-a4a4-6653b4853617",
   "metadata": {},
   "outputs": [
    {
     "name": "stdout",
     "output_type": "stream",
     "text": [
      "\n",
      "\n",
      "\u001b[1m> Entering new SQLDatabaseChain chain...\u001b[0m\n",
      "How much is standard pedicure?\n",
      "SQLQuery:\u001b[32;1m\u001b[1;3mSELECT price FROM Services WHERE name = 'Pedicure'\u001b[0m\n",
      "SQLResult: \u001b[33;1m\u001b[1;3m[(80.0,)]\u001b[0m\n",
      "Answer:\u001b[32;1m\u001b[1;3mStandard pedicure is priced at $80.0.\u001b[0m\n",
      "\u001b[1m> Finished chain.\u001b[0m\n"
     ]
    },
    {
     "data": {
      "text/plain": [
       "('SQL', 'Standard pedicure is priced at $80.0.')"
      ]
     },
     "execution_count": 6,
     "metadata": {},
     "output_type": "execute_result"
    }
   ],
   "source": [
    "conversation_chain(\"How much is standard pedicure?\")"
   ]
  },
  {
   "cell_type": "code",
   "execution_count": 7,
   "id": "128b6b6b-1c96-43e3-99d0-3f8914488da7",
   "metadata": {},
   "outputs": [
    {
     "name": "stdout",
     "output_type": "stream",
     "text": [
      "\n",
      "\n",
      "\u001b[1m> Entering new SQLDatabaseChain chain...\u001b[0m\n",
      "What is the price for a haircut?\n",
      "SQLQuery:\u001b[32;1m\u001b[1;3mSELECT price FROM Services WHERE name = 'Haircut & Styling'\u001b[0m\n",
      "SQLResult: \u001b[33;1m\u001b[1;3m[(40.0,)]\u001b[0m\n",
      "Answer:\u001b[32;1m\u001b[1;3mThe price for a haircut is $40.0.\u001b[0m\n",
      "\u001b[1m> Finished chain.\u001b[0m\n"
     ]
    },
    {
     "data": {
      "text/plain": [
       "('SQL', 'The price for a haircut is $40.0.')"
      ]
     },
     "execution_count": 7,
     "metadata": {},
     "output_type": "execute_result"
    }
   ],
   "source": [
    "conversation_chain(\"What is the price for a haircut?\")"
   ]
  },
  {
   "cell_type": "markdown",
   "id": "3f5b6a63-6773-447f-b29e-b0b66ba88cfb",
   "metadata": {},
   "source": [
    "# Consultant"
   ]
  },
  {
   "cell_type": "code",
   "execution_count": 8,
   "id": "646bdcb7-2ff7-4dac-bb98-5b84bb0f1886",
   "metadata": {},
   "outputs": [
    {
     "data": {
      "text/plain": [
       "('Consultant',\n",
       " \"The current hairstyle trends include textured bobs, long layers, and curtain bangs. These styles are versatile and can be customized to suit different face shapes and hair types. Let me know if you have any specific questions or if there's anything else I can assist you with!\")"
      ]
     },
     "execution_count": 8,
     "metadata": {},
     "output_type": "execute_result"
    }
   ],
   "source": [
    "conversation_chain(\"What are the trends for hairstyle now?\")"
   ]
  },
  {
   "cell_type": "code",
   "execution_count": 9,
   "id": "ab02e6db-ddb2-4e46-9a35-4af54336aa10",
   "metadata": {},
   "outputs": [
    {
     "data": {
      "text/plain": [
       "('Consultant',\n",
       " \"Hi Michelle! I'm an AI virtual assistant here to help you with any beauty salon-related questions or concerns you may have. How can I assist you today?\")"
      ]
     },
     "execution_count": 9,
     "metadata": {},
     "output_type": "execute_result"
    }
   ],
   "source": [
    "conversation_chain(\"My name is Michelle, how are you?\")"
   ]
  },
  {
   "cell_type": "markdown",
   "id": "1226364a-2a65-4c72-9992-681a59e67485",
   "metadata": {},
   "source": [
    "Запоминает переписку"
   ]
  },
  {
   "cell_type": "code",
   "execution_count": 10,
   "id": "79e46d9c-7073-4d26-a658-485e1b05e138",
   "metadata": {},
   "outputs": [
    {
     "data": {
      "text/plain": [
       "('Consultant', 'Your name is Michelle. How can I assist you today, Michelle?')"
      ]
     },
     "execution_count": 10,
     "metadata": {},
     "output_type": "execute_result"
    }
   ],
   "source": [
    "conversation_chain(\"What is my name?\")"
   ]
  },
  {
   "cell_type": "markdown",
   "id": "e4a33102-8a3a-4da1-9444-73901c91a41a",
   "metadata": {},
   "source": [
    "# Exit"
   ]
  },
  {
   "cell_type": "code",
   "execution_count": 11,
   "id": "fc65d27a-973a-4e64-aa33-c13f4148e098",
   "metadata": {},
   "outputs": [
    {
     "data": {
      "text/plain": [
       "('Exit', None)"
      ]
     },
     "execution_count": 11,
     "metadata": {},
     "output_type": "execute_result"
    }
   ],
   "source": [
    "conversation_chain(\"Okay, bye!\")"
   ]
  },
  {
   "cell_type": "markdown",
   "id": "6185468c-1b96-4bf1-a413-d482a8113931",
   "metadata": {},
   "source": [
    "# Support"
   ]
  },
  {
   "cell_type": "code",
   "execution_count": 12,
   "id": "8bc499bf-7e6f-45f4-8368-6ee278189959",
   "metadata": {},
   "outputs": [
    {
     "data": {
      "text/plain": [
       "('Support', None)"
      ]
     },
     "execution_count": 12,
     "metadata": {},
     "output_type": "execute_result"
    }
   ],
   "source": [
    "conversation_chain(\"Can you call the human?\")"
   ]
  }
 ],
 "metadata": {
  "kernelspec": {
   "display_name": "Python 3 (ipykernel)",
   "language": "python",
   "name": "python3"
  },
  "language_info": {
   "codemirror_mode": {
    "name": "ipython",
    "version": 3
   },
   "file_extension": ".py",
   "mimetype": "text/x-python",
   "name": "python",
   "nbconvert_exporter": "python",
   "pygments_lexer": "ipython3",
   "version": "3.10.12"
  }
 },
 "nbformat": 4,
 "nbformat_minor": 5
}
