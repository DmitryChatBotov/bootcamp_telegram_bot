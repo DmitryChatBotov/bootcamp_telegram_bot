{
 "cells": [
  {
   "cell_type": "code",
   "execution_count": 1,
   "id": "22513384-95af-43e4-8f23-b131299d4d0d",
   "metadata": {},
   "outputs": [],
   "source": [
    "import sys\n",
    "import os\n",
    "from dotenv import load_dotenv\n",
    "\n",
    "from langchain.agents import AgentType, initialize_agent\n",
    "from langchain.chat_models import ChatOpenAI"
   ]
  },
  {
   "cell_type": "code",
   "execution_count": 2,
   "id": "0a5c96dd-0d75-4468-b561-52a785c404e1",
   "metadata": {},
   "outputs": [
    {
     "data": {
      "text/plain": [
       "True"
      ]
     },
     "execution_count": 2,
     "metadata": {},
     "output_type": "execute_result"
    }
   ],
   "source": [
    "sys.path.append(os.path.join(os.curdir, os.pardir, \"bot\"))\n",
    "load_dotenv()  # Подгружаю ключ из .env, который лежит в Notebooks"
   ]
  },
  {
   "cell_type": "code",
   "execution_count": 3,
   "id": "cae00798-c1ac-4ba8-8c55-7e5672faf3eb",
   "metadata": {},
   "outputs": [],
   "source": [
    "from models.langchain import llm\n",
    "from models.langchain.conversation_agent import ConversationAgent"
   ]
  },
  {
   "cell_type": "code",
   "execution_count": 4,
   "id": "590d5089-b7f7-4148-bdbb-98d5063f56fe",
   "metadata": {},
   "outputs": [],
   "source": [
    "conversation_agent = ConversationAgent(llm, \"BeautySalon.db\")  # закинул BeautySalon в notebooks"
   ]
  },
  {
   "cell_type": "markdown",
   "id": "b56b6830-d2b4-4aae-8e14-0e12c21ed230",
   "metadata": {},
   "source": [
    "## Создать запись"
   ]
  },
  {
   "cell_type": "code",
   "execution_count": 5,
   "id": "aba0015d-a403-49db-a647-f74dbcb4fcf3",
   "metadata": {},
   "outputs": [
    {
     "name": "stdout",
     "output_type": "stream",
     "text": [
      "\n",
      "\n",
      "\u001b[1m> Entering new AgentExecutor chain...\u001b[0m\n",
      "\u001b[32;1m\u001b[1;3mThe user wants to make a booking for a nail service on September 26th at 10am.\n",
      "Action: ner_booking_tool\n",
      "Action Input: \"Make a booking for nail service on September 26th at 10am\"\u001b[0m\n",
      "Observation: \u001b[33;1m\u001b[1;3m{'action': 'Create', 'master_name': None, 'beauty_service': 'Manicure', 'booking_date': '2023-09-26', 'booking_time': '10:00'}\u001b[0m\n",
      "Thought:\u001b[32;1m\u001b[1;3mThe booking tool has successfully created a booking for a manicure service on September 26th at 10am.\n",
      "Final Answer: Your nail service booking for September 26th at 10am has been successfully created.\u001b[0m\n",
      "\n",
      "\u001b[1m> Finished chain.\u001b[0m\n"
     ]
    }
   ],
   "source": [
    "response = conversation_agent(\"Hello, it's Natalie. Can I have my nails done 26th of september at 10am\")"
   ]
  },
  {
   "cell_type": "markdown",
   "id": "589ad243-a5b4-44f6-9f5e-b8694bc026be",
   "metadata": {},
   "source": [
    "Достанем словарь"
   ]
  },
  {
   "cell_type": "code",
   "execution_count": 6,
   "id": "8e7308ac-c05f-4d34-9f26-cb9fc221eaba",
   "metadata": {},
   "outputs": [
    {
     "data": {
      "text/plain": [
       "{'action': 'Create',\n",
       " 'master_name': None,\n",
       " 'beauty_service': 'Manicure',\n",
       " 'booking_date': '2023-09-26',\n",
       " 'booking_time': '10:00'}"
      ]
     },
     "execution_count": 6,
     "metadata": {},
     "output_type": "execute_result"
    }
   ],
   "source": [
    "response[\"intermediate_steps\"][-1][-1]"
   ]
  },
  {
   "cell_type": "markdown",
   "id": "3e5e5e26-15d8-4098-a39c-6bcd7ecb21e0",
   "metadata": {},
   "source": [
    "Этой инфы + инфы о юзере  должно хватить чтобы сделать запись в Bookings"
   ]
  },
  {
   "cell_type": "markdown",
   "id": "5bec2a0e-dc7d-427e-8873-bc4eb6c1ccca",
   "metadata": {},
   "source": [
    "## Удалить запись"
   ]
  },
  {
   "cell_type": "code",
   "execution_count": 7,
   "id": "17701fdc-2a38-41e0-8362-79812aa3798f",
   "metadata": {},
   "outputs": [
    {
     "name": "stdout",
     "output_type": "stream",
     "text": [
      "\n",
      "\n",
      "\u001b[1m> Entering new AgentExecutor chain...\u001b[0m\n",
      "\u001b[32;1m\u001b[1;3mThe user wants to cancel a booking that is scheduled for tomorrow.\n",
      "Action: ner_booking_tool\n",
      "Action Input: \"cancel booking tomorrow\"\u001b[0m\n",
      "Observation: \u001b[33;1m\u001b[1;3m{'action': 'Cancel', 'master_name': None, 'beauty_service': None, 'booking_date': '2023-09-07', 'booking_time': None}\u001b[0m\n",
      "Thought:\u001b[32;1m\u001b[1;3mThe user wants to cancel a booking scheduled for tomorrow, which is on September 7th, 2023.\n",
      "Final Answer: Yes, you can cancel your booking that is scheduled for tomorrow, September 7th, 2023.\u001b[0m\n",
      "\n",
      "\u001b[1m> Finished chain.\u001b[0m\n"
     ]
    }
   ],
   "source": [
    "response = conversation_agent(\"Hello, it's Natalie. Can I cancel my booking that is tomorrow?\")"
   ]
  },
  {
   "cell_type": "code",
   "execution_count": 8,
   "id": "2f10816e-8bfa-40ce-82a2-6899bf562c90",
   "metadata": {},
   "outputs": [
    {
     "data": {
      "text/plain": [
       "{'action': 'Cancel',\n",
       " 'master_name': None,\n",
       " 'beauty_service': None,\n",
       " 'booking_date': '2023-09-07',\n",
       " 'booking_time': None}"
      ]
     },
     "execution_count": 8,
     "metadata": {},
     "output_type": "execute_result"
    }
   ],
   "source": [
    "response[\"intermediate_steps\"][-1][-1]"
   ]
  },
  {
   "cell_type": "markdown",
   "id": "89fb53eb-dd0f-4ba7-a9f5-2c7871e14dbe",
   "metadata": {},
   "source": [
    "## Поиск по базе"
   ]
  },
  {
   "cell_type": "code",
   "execution_count": 9,
   "id": "78ce7f51-ac30-404b-a72e-14d42c0f9723",
   "metadata": {},
   "outputs": [
    {
     "name": "stdout",
     "output_type": "stream",
     "text": [
      "\n",
      "\n",
      "\u001b[1m> Entering new AgentExecutor chain...\u001b[0m\n",
      "\u001b[32;1m\u001b[1;3mThe user is asking about the services offered by the beauty salon.\n",
      "Action: sql_tool\n",
      "Action Input: SELECT services FROM beauty_salons\u001b[0m\n",
      "\n",
      "\u001b[1m> Entering new SQLDatabaseChain chain...\u001b[0m\n",
      "SELECT services FROM beauty_salons\n",
      "SQLQuery:\u001b[32;1m\u001b[1;3mSELECT name FROM Services\u001b[0m\n",
      "SQLResult: \u001b[33;1m\u001b[1;3m[('Classic Facial',), ('Deep Tissue Massage',), ('Manicure',), ('Pedicure',), ('Haircut & Styling',), ('Full Hair Coloring',), ('Eyebrow Shaping',)]\u001b[0m\n",
      "Answer:\u001b[32;1m\u001b[1;3mClassic Facial, Deep Tissue Massage, Manicure, Pedicure, Haircut & Styling, Full Hair Coloring, Eyebrow Shaping\u001b[0m\n",
      "\u001b[1m> Finished chain.\u001b[0m\n",
      "\n",
      "Observation: \u001b[36;1m\u001b[1;3mClassic Facial, Deep Tissue Massage, Manicure, Pedicure, Haircut & Styling, Full Hair Coloring, Eyebrow Shaping\u001b[0m\n",
      "Thought:\u001b[32;1m\u001b[1;3mI now know the services offered by the beauty salon.\n",
      "Final Answer: The beauty salon offers Classic Facial, Deep Tissue Massage, Manicure, Pedicure, Haircut & Styling, Full Hair Coloring, and Eyebrow Shaping.\u001b[0m\n",
      "\n",
      "\u001b[1m> Finished chain.\u001b[0m\n"
     ]
    }
   ],
   "source": [
    "response = conversation_agent(\"What services do you have?\")"
   ]
  },
  {
   "cell_type": "markdown",
   "id": "e1113827-9ff3-4abc-a633-2ab0a1be4581",
   "metadata": {},
   "source": [
    "В случае поиска по базе мы достаем ouput из респонса"
   ]
  },
  {
   "cell_type": "markdown",
   "id": "e8bb8ede-84f3-45a6-8ad5-b3cff198c947",
   "metadata": {},
   "source": [
    "Чтобы понять делаем ли мы запись или достаем из базы, можно проверить `response[\"intermediate_steps\"][-1][-1]` как вариант. Если он dict - значит создаем запись, если str - тянем из базы"
   ]
  },
  {
   "cell_type": "code",
   "execution_count": 10,
   "id": "7cbb6890-5aea-48d2-b40b-6efc0da9e12d",
   "metadata": {},
   "outputs": [
    {
     "data": {
      "text/plain": [
       "'The beauty salon offers Classic Facial, Deep Tissue Massage, Manicure, Pedicure, Haircut & Styling, Full Hair Coloring, and Eyebrow Shaping.'"
      ]
     },
     "execution_count": 10,
     "metadata": {},
     "output_type": "execute_result"
    }
   ],
   "source": [
    "response[\"output\"]"
   ]
  },
  {
   "cell_type": "code",
   "execution_count": 11,
   "id": "b5f38098-fe75-4ad9-b560-59dcc743dc12",
   "metadata": {},
   "outputs": [
    {
     "name": "stdout",
     "output_type": "stream",
     "text": [
      "\n",
      "\n",
      "\u001b[1m> Entering new AgentExecutor chain...\u001b[0m\n",
      "\u001b[32;1m\u001b[1;3mI need to find the price of a standard pedicure.\n",
      "Action: sql_tool\n",
      "Action Input: SELECT price FROM services WHERE service_name = 'standard pedicure'\u001b[0m\n",
      "\n",
      "\u001b[1m> Entering new SQLDatabaseChain chain...\u001b[0m\n",
      "SELECT price FROM services WHERE service_name = 'standard pedicure'\n",
      "SQLQuery:\u001b[32;1m\u001b[1;3mSELECT price FROM Services WHERE name = 'Pedicure'\u001b[0m\n",
      "SQLResult: \u001b[33;1m\u001b[1;3m[(80.0,)]\u001b[0m\n",
      "Answer:\u001b[32;1m\u001b[1;3mFinal answer here: The price for a standard pedicure is $80.0.\u001b[0m\n",
      "\u001b[1m> Finished chain.\u001b[0m\n",
      "\n",
      "Observation: \u001b[36;1m\u001b[1;3mFinal answer here: The price for a standard pedicure is $80.0.\u001b[0m\n",
      "Thought:\u001b[32;1m\u001b[1;3mI now know the final answer.\n",
      "Final Answer: The price for a standard pedicure is $80.0.\u001b[0m\n",
      "\n",
      "\u001b[1m> Finished chain.\u001b[0m\n"
     ]
    }
   ],
   "source": [
    "response = conversation_agent(\"How much is standard pedicure?\")"
   ]
  },
  {
   "cell_type": "code",
   "execution_count": 12,
   "id": "d8015d14-dd52-48cb-b0a2-be99fb4cc631",
   "metadata": {},
   "outputs": [
    {
     "name": "stdout",
     "output_type": "stream",
     "text": [
      "\n",
      "\n",
      "\u001b[1m> Entering new AgentExecutor chain...\u001b[0m\n",
      "\u001b[32;1m\u001b[1;3mI need to find the price for a haircut.\n",
      "Action: sql_tool\n",
      "Action Input: SELECT price FROM services WHERE service_name = 'haircut'\u001b[0m\n",
      "\n",
      "\u001b[1m> Entering new SQLDatabaseChain chain...\u001b[0m\n",
      "SELECT price FROM services WHERE service_name = 'haircut'\n",
      "SQLQuery:\u001b[32;1m\u001b[1;3mSELECT price FROM Services WHERE name = 'Haircut & Styling'\u001b[0m\n",
      "SQLResult: \u001b[33;1m\u001b[1;3m[(40.0,)]\u001b[0m\n",
      "Answer:\u001b[32;1m\u001b[1;3mFinal answer here: The price for the \"Haircut & Styling\" service is $40.0.\u001b[0m\n",
      "\u001b[1m> Finished chain.\u001b[0m\n",
      "\n",
      "Observation: \u001b[36;1m\u001b[1;3mFinal answer here: The price for the \"Haircut & Styling\" service is $40.0.\u001b[0m\n",
      "Thought:\u001b[32;1m\u001b[1;3mI now know the final answer\n",
      "Final Answer: The price for a haircut is $40.0.\u001b[0m\n",
      "\n",
      "\u001b[1m> Finished chain.\u001b[0m\n"
     ]
    }
   ],
   "source": [
    "response = conversation_agent(\"What is the price for a haircut?\")"
   ]
  }
 ],
 "metadata": {
  "kernelspec": {
   "display_name": "Python 3 (ipykernel)",
   "language": "python",
   "name": "python3"
  },
  "language_info": {
   "codemirror_mode": {
    "name": "ipython",
    "version": 3
   },
   "file_extension": ".py",
   "mimetype": "text/x-python",
   "name": "python",
   "nbconvert_exporter": "python",
   "pygments_lexer": "ipython3",
   "version": "3.10.12"
  }
 },
 "nbformat": 4,
 "nbformat_minor": 5
}
